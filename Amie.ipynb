{
  "nbformat": 4,
  "nbformat_minor": 0,
  "metadata": {
    "colab": {
      "provenance": [],
      "authorship_tag": "ABX9TyMGUQtafgr80hDeAza8gmp/",
      "include_colab_link": true
    },
    "kernelspec": {
      "name": "python3",
      "display_name": "Python 3"
    },
    "language_info": {
      "name": "python"
    }
  },
  "cells": [
    {
      "cell_type": "markdown",
      "metadata": {
        "id": "view-in-github",
        "colab_type": "text"
      },
      "source": [
        "<a href=\"https://colab.research.google.com/github/aminahmayole/BSG_giS/blob/main/Amie.ipynb\" target=\"_parent\"><img src=\"https://colab.research.google.com/assets/colab-badge.svg\" alt=\"Open In Colab\"/></a>"
      ]
    },
    {
      "cell_type": "code",
      "execution_count": null,
      "metadata": {
        "id": "5aMb80OmyESU"
      },
      "outputs": [],
      "source": []
    },
    {
      "cell_type": "code",
      "source": [
        "#Our first program\n",
        "print(\"Hello World\")"
      ],
      "metadata": {
        "colab": {
          "base_uri": "https://localhost:8080/"
        },
        "id": "Xd8xag9Ty5fo",
        "outputId": "f4907b96-5ddc-4274-be80-19012fbd13a3"
      },
      "execution_count": null,
      "outputs": [
        {
          "output_type": "stream",
          "name": "stdout",
          "text": [
            "Hello World\n"
          ]
        }
      ]
    },
    {
      "cell_type": "code",
      "source": [],
      "metadata": {
        "id": "TRhld9aBwFst"
      },
      "execution_count": null,
      "outputs": []
    },
    {
      "cell_type": "code",
      "source": [
        "# Formatting strings\n",
        "name= \"Amie\"\n",
        "name = name.lower()\n",
        "print(name)"
      ],
      "metadata": {
        "colab": {
          "base_uri": "https://localhost:8080/"
        },
        "id": "bijn2eSs5OLC",
        "outputId": "9361725b-0ca7-40e3-a4d0-32b4a8a4bf29"
      },
      "execution_count": null,
      "outputs": [
        {
          "output_type": "stream",
          "name": "stdout",
          "text": [
            "amie\n"
          ]
        }
      ]
    },
    {
      "cell_type": "code",
      "source": [
        "# Changing to upper case\n",
        "name= name.upper()\n",
        "print(name)"
      ],
      "metadata": {
        "colab": {
          "base_uri": "https://localhost:8080/"
        },
        "id": "KoROMwDM56i2",
        "outputId": "89bd537c-b8a5-4003-8f0d-1ffaecbe015b"
      },
      "execution_count": null,
      "outputs": [
        {
          "output_type": "stream",
          "name": "stdout",
          "text": [
            "AMIE\n"
          ]
        }
      ]
    },
    {
      "cell_type": "code",
      "source": [
        "# Removing white spaces\n",
        "city = \"Kampala \"\n",
        "#Get the number of characters in city\n",
        "number= len(city)\n",
        "print(number)"
      ],
      "metadata": {
        "colab": {
          "base_uri": "https://localhost:8080/"
        },
        "id": "2CCgRxug7NJV",
        "outputId": "c19f233e-d182-4e11-ac93-0c81ab84e4b1"
      },
      "execution_count": null,
      "outputs": [
        {
          "output_type": "stream",
          "name": "stdout",
          "text": [
            "8\n"
          ]
        }
      ]
    },
    {
      "cell_type": "code",
      "source": [
        "city = city.strip()\n",
        "number = len(city)\n",
        "print(number)"
      ],
      "metadata": {
        "colab": {
          "base_uri": "https://localhost:8080/"
        },
        "id": "ttpmnUvz-CSn",
        "outputId": "3c45c28c-a269-4d2a-c14a-8f4536d5482f"
      },
      "execution_count": null,
      "outputs": [
        {
          "output_type": "stream",
          "name": "stdout",
          "text": [
            "7\n"
          ]
        }
      ]
    },
    {
      "cell_type": "code",
      "source": [
        "# Repalacing strings\n",
        "country = \"Zganda\"\n",
        "country.replace(\"Z\",\"U\")"
      ],
      "metadata": {
        "colab": {
          "base_uri": "https://localhost:8080/",
          "height": 35
        },
        "id": "ACUrzVdN-z5k",
        "outputId": "0e195f25-5699-4982-fcc9-e6bb28e315ef"
      },
      "execution_count": null,
      "outputs": [
        {
          "output_type": "execute_result",
          "data": {
            "text/plain": [
              "'Uganda'"
            ],
            "application/vnd.google.colaboratory.intrinsic+json": {
              "type": "string"
            }
          },
          "metadata": {},
          "execution_count": 8
        }
      ]
    },
    {
      "cell_type": "code",
      "source": [
        "# Splitting strings\n",
        "message = \"Hello, World\"\n",
        "message.split (\",\")"
      ],
      "metadata": {
        "colab": {
          "base_uri": "https://localhost:8080/"
        },
        "id": "GNxjfrb5_xyk",
        "outputId": "1d25906f-ec32-4afa-b096-78268772535c"
      },
      "execution_count": null,
      "outputs": [
        {
          "output_type": "execute_result",
          "data": {
            "text/plain": [
              "['Hello', ' World']"
            ]
          },
          "metadata": {},
          "execution_count": 10
        }
      ]
    },
    {
      "cell_type": "code",
      "source": [
        "# Declaring variables\n",
        "X = 4\n",
        "y = \"A3\"\n",
        "print(type(X))"
      ],
      "metadata": {
        "colab": {
          "base_uri": "https://localhost:8080/"
        },
        "id": "8vDEP_K1wJ28",
        "outputId": "92e62f16-9ee8-499a-ca3d-9aabdbd134d4"
      },
      "execution_count": null,
      "outputs": [
        {
          "output_type": "stream",
          "name": "stdout",
          "text": [
            "<class 'int'>\n"
          ]
        }
      ]
    },
    {
      "cell_type": "code",
      "source": [
        "print(type(y))"
      ],
      "metadata": {
        "colab": {
          "base_uri": "https://localhost:8080/"
        },
        "id": "_Yb0ROigx9O1",
        "outputId": "fe46a4e3-f61b-4351-df2e-7bb3c5d4d012"
      },
      "execution_count": null,
      "outputs": [
        {
          "output_type": "stream",
          "name": "stdout",
          "text": [
            "<class 'str'>\n"
          ]
        }
      ]
    },
    {
      "cell_type": "code",
      "source": [
        "print(y)"
      ],
      "metadata": {
        "colab": {
          "base_uri": "https://localhost:8080/"
        },
        "id": "iUM2ZErkyW8M",
        "outputId": "46e4f79f-6693-4bfe-e007-1f6766f55467"
      },
      "execution_count": null,
      "outputs": [
        {
          "output_type": "stream",
          "name": "stdout",
          "text": [
            "A3\n"
          ]
        }
      ]
    },
    {
      "cell_type": "code",
      "source": [
        "print(X)"
      ],
      "metadata": {
        "colab": {
          "base_uri": "https://localhost:8080/"
        },
        "id": "KFfmMQxMyRQE",
        "outputId": "b8055cfd-0b13-449e-83d2-a09ae6d43b6a"
      },
      "execution_count": null,
      "outputs": [
        {
          "output_type": "stream",
          "name": "stdout",
          "text": [
            "4\n"
          ]
        }
      ]
    },
    {
      "cell_type": "code",
      "source": [
        "print(\"Hello, World!\")"
      ],
      "metadata": {
        "colab": {
          "base_uri": "https://localhost:8080/"
        },
        "id": "IQSnmu-b1dYG",
        "outputId": "3ca2a8ef-2147-4137-cebe-f1ff3bcb2b22"
      },
      "execution_count": null,
      "outputs": [
        {
          "output_type": "stream",
          "name": "stdout",
          "text": [
            "Hello, World!\n"
          ]
        }
      ]
    },
    {
      "cell_type": "code",
      "source": [
        "# String concantenation\n",
        "Str1 = \"Hello\"\n",
        "Str2 = \"World\"\n",
        "Str3 = \"Hello\" + \"World\"\n",
        "print(Str3)"
      ],
      "metadata": {
        "colab": {
          "base_uri": "https://localhost:8080/"
        },
        "id": "3yxEUKhW-oTe",
        "outputId": "18f471f0-f2ee-4333-be74-2313639e9212"
      },
      "execution_count": null,
      "outputs": [
        {
          "output_type": "stream",
          "name": "stdout",
          "text": [
            "HelloWorld\n"
          ]
        }
      ]
    },
    {
      "cell_type": "code",
      "source": [
        "# Numeric Operations\n",
        "a = 50\n",
        "b = 2\n",
        "z = a * b\n",
        "print(\"The ans is:\", z)"
      ],
      "metadata": {
        "colab": {
          "base_uri": "https://localhost:8080/"
        },
        "id": "fb67-WuWAt7F",
        "outputId": "31304733-c7de-45e7-9063-b435c1a5dd4c"
      },
      "execution_count": null,
      "outputs": [
        {
          "output_type": "stream",
          "name": "stdout",
          "text": [
            "The ans is: 100\n"
          ]
        }
      ]
    },
    {
      "cell_type": "code",
      "source": [
        "c = z/5\n",
        "print(\"The result is equal to:\",c)"
      ],
      "metadata": {
        "colab": {
          "base_uri": "https://localhost:8080/"
        },
        "id": "3-Ov8QKGCQxl",
        "outputId": "a55dec2c-b129-4c2a-e23f-cd42bb85714d"
      },
      "execution_count": null,
      "outputs": [
        {
          "output_type": "stream",
          "name": "stdout",
          "text": [
            "The result is equal to: 20.0\n"
          ]
        }
      ]
    },
    {
      "cell_type": "code",
      "source": [
        "# String repeatition\n",
        "string_to_repeat = \"Grace\"\n",
        "repeated_string = string_to_repeat * 6\n",
        "print(repeated_string)"
      ],
      "metadata": {
        "colab": {
          "base_uri": "https://localhost:8080/"
        },
        "id": "gpBgQjidEahG",
        "outputId": "987efa4f-c25d-4b32-90d4-ac9b68bffc3d"
      },
      "execution_count": null,
      "outputs": [
        {
          "output_type": "stream",
          "name": "stdout",
          "text": [
            "GraceGraceGraceGraceGraceGrace\n"
          ]
        }
      ]
    },
    {
      "cell_type": "code",
      "source": [
        "# Variable swap\n",
        "a,b =b, a\n",
        "print(\"a after swap\",a)"
      ],
      "metadata": {
        "colab": {
          "base_uri": "https://localhost:8080/"
        },
        "id": "8Ec89sd2ITj0",
        "outputId": "7bfa97c1-da0a-4f00-c8fa-a07a13690078"
      },
      "execution_count": null,
      "outputs": [
        {
          "output_type": "stream",
          "name": "stdout",
          "text": [
            "a after swap 2\n"
          ]
        }
      ]
    },
    {
      "cell_type": "code",
      "source": [
        "print(\"b after swap\", b)"
      ],
      "metadata": {
        "colab": {
          "base_uri": "https://localhost:8080/"
        },
        "id": "9CWfCPAnJqt-",
        "outputId": "616f00a8-0b74-46aa-c4a4-02785dce3622"
      },
      "execution_count": null,
      "outputs": [
        {
          "output_type": "stream",
          "name": "stdout",
          "text": [
            "b after swap 50\n"
          ]
        }
      ]
    },
    {
      "cell_type": "code",
      "source": [
        "# string length\n",
        "w =\"communicationshouse\"\n",
        "number = len(w)\n",
        "print(number)"
      ],
      "metadata": {
        "colab": {
          "base_uri": "https://localhost:8080/"
        },
        "id": "XVIBQ9_KKCaI",
        "outputId": "344ff083-04da-4ded-b9eb-282873b40bd1"
      },
      "execution_count": 2,
      "outputs": [
        {
          "output_type": "stream",
          "name": "stdout",
          "text": [
            "19\n"
          ]
        }
      ]
    },
    {
      "cell_type": "code",
      "source": [
        "# Type conversion\n",
        "R = 45\n",
        "S = \"A45\"\n",
        "num-str = str)(num)\n",
        "print num-str"
      ],
      "metadata": {
        "colab": {
          "base_uri": "https://localhost:8080/",
          "height": 106
        },
        "id": "ywjGJ4SPcOqj",
        "outputId": "a63823a2-cb4b-480a-da72-df72126e075a"
      },
      "execution_count": 5,
      "outputs": [
        {
          "output_type": "error",
          "ename": "SyntaxError",
          "evalue": "unmatched ')' (<ipython-input-5-e4f63c2db013>, line 4)",
          "traceback": [
            "\u001b[0;36m  File \u001b[0;32m\"<ipython-input-5-e4f63c2db013>\"\u001b[0;36m, line \u001b[0;32m4\u001b[0m\n\u001b[0;31m    num-str = str)(num)\u001b[0m\n\u001b[0m                 ^\u001b[0m\n\u001b[0;31mSyntaxError\u001b[0m\u001b[0;31m:\u001b[0m unmatched ')'\n"
          ]
        }
      ]
    },
    {
      "cell_type": "code",
      "source": [
        "#Formatted string\n",
        "D = 10\n",
        "E = 30\n",
        "F = E/D\n",
        "print(\"The ans is:\",F)"
      ],
      "metadata": {
        "colab": {
          "base_uri": "https://localhost:8080/"
        },
        "id": "SpD49lNXjWUo",
        "outputId": "2ed4dbd4-02db-4fd2-867b-1aa8d37c39a8"
      },
      "execution_count": 6,
      "outputs": [
        {
          "output_type": "stream",
          "name": "stdout",
          "text": [
            "The ans is: 3.0\n"
          ]
        }
      ]
    }
  ]
}