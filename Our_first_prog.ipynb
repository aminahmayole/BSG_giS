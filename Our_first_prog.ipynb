{
  "nbformat": 4,
  "nbformat_minor": 0,
  "metadata": {
    "colab": {
      "provenance": [],
      "authorship_tag": "ABX9TyMkhx1k1TmI4SMEJJcD+xa+",
      "include_colab_link": true
    },
    "kernelspec": {
      "name": "python3",
      "display_name": "Python 3"
    },
    "language_info": {
      "name": "python"
    }
  },
  "cells": [
    {
      "cell_type": "markdown",
      "metadata": {
        "id": "view-in-github",
        "colab_type": "text"
      },
      "source": [
        "<a href=\"https://colab.research.google.com/github/aminahmayole/BSG_giS/blob/main/Our_first_prog.ipynb\" target=\"_parent\"><img src=\"https://colab.research.google.com/assets/colab-badge.svg\" alt=\"Open In Colab\"/></a>"
      ]
    },
    {
      "cell_type": "markdown",
      "source": [
        "**Our first program**"
      ],
      "metadata": {
        "id": "tvZd_z1fOIVI"
      }
    },
    {
      "cell_type": "code",
      "source": [
        "#// Adding two numbers\n",
        "first_num = 2\n",
        "second_num = 3\n",
        "sum = first_num + second_num\n",
        "print(sum)"
      ],
      "metadata": {
        "colab": {
          "base_uri": "https://localhost:8080/"
        },
        "id": "2Ld2n_fePEu4",
        "outputId": "71d78ff2-f8cd-476b-ef2e-e94ea3c6e887"
      },
      "execution_count": 1,
      "outputs": [
        {
          "output_type": "stream",
          "name": "stdout",
          "text": [
            "5\n"
          ]
        }
      ]
    },
    {
      "cell_type": "code",
      "execution_count": null,
      "metadata": {
        "id": "kDoqjFL4LBBc"
      },
      "outputs": [],
      "source": []
    }
  ]
}